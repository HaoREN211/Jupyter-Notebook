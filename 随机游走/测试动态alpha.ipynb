{
 "cells": [
  {
   "cell_type": "code",
   "execution_count": 1,
   "metadata": {},
   "outputs": [],
   "source": [
    "import numpy as np\n",
    "import math"
   ]
  },
  {
   "cell_type": "code",
   "execution_count": 2,
   "metadata": {},
   "outputs": [],
   "source": [
    "def calculate_result(weight, n):\n",
    "    return 1 - weight * (1 - math.exp(-n))"
   ]
  },
  {
   "cell_type": "code",
   "execution_count": 6,
   "metadata": {},
   "outputs": [],
   "source": [
    "nb_edge = np.array([3, 3, 2, 1, 1, 2, 2])\n",
    "labels = [0, 1, 0, 0, 1, 0, 0]\n",
    "orders = []"
   ]
  },
  {
   "cell_type": "code",
   "execution_count": 4,
   "metadata": {},
   "outputs": [
    {
     "data": {
      "text/plain": [
       "[[0.94, 0.58, 0.14],\n",
       " [0.58, 0.14, 0.14],\n",
       " [0.14, 0.14],\n",
       " [0.14],\n",
       " [0.14],\n",
       " [0.14, 0.14],\n",
       " [0.94, 0.14]]"
      ]
     },
     "execution_count": 4,
     "metadata": {},
     "output_type": "execute_result"
    }
   ],
   "source": [
    "list_weight = list([])\n",
    "list_weight.extend([[0.94, 0.58, 0.14]])\n",
    "list_weight.extend([[0.58, 0.14, 0.14]])\n",
    "list_weight.extend([[0.14, 0.14]])\n",
    "list_weight.extend([[0.14]])\n",
    "list_weight.extend([[0.14]])\n",
    "list_weight.extend([[0.14, 0.14]])\n",
    "list_weight.extend([[0.94, 0.14]])\n",
    "list_weight"
   ]
  },
  {
   "cell_type": "code",
   "execution_count": 8,
   "metadata": {},
   "outputs": [],
   "source": [
    "list_max_weight = []\n",
    "\n",
    "for weight in list_weight:\n",
    "    max_weight = max(weight)\n",
    "    list_max_weight.append(max_weight)"
   ]
  },
  {
   "cell_type": "code",
   "execution_count": 10,
   "metadata": {},
   "outputs": [
    {
     "name": "stdout",
     "output_type": "stream",
     "text": [
      "node 0 random walk rate is 0.106800, which nb edge is 3 and max weight is 0.940000\n",
      "node 1 random walk rate is 0.448876, which nb edge is 3 and max weight is 0.580000\n",
      "node 2 random walk rate is 0.878947, which nb edge is 2 and max weight is 0.140000\n",
      "node 3 random walk rate is 0.911503, which nb edge is 1 and max weight is 0.140000\n",
      "node 4 random walk rate is 0.911503, which nb edge is 1 and max weight is 0.140000\n",
      "node 5 random walk rate is 0.878947, which nb edge is 2 and max weight is 0.140000\n",
      "node 6 random walk rate is 0.187215, which nb edge is 2 and max weight is 0.940000\n"
     ]
    }
   ],
   "source": [
    "for i in range(7):\n",
    "    print(\"node %d random walk rate is %f, which nb edge is %d and max weight is %f\" % (i, \n",
    "                                                                                        calculate_result(list_max_weight[i], nb_edge[i]),\n",
    "                                                                                       nb_edge[i], list_max_weight[i]))"
   ]
  }
 ],
 "metadata": {
  "kernelspec": {
   "display_name": "Python 3",
   "language": "python",
   "name": "python3"
  },
  "language_info": {
   "codemirror_mode": {
    "name": "ipython",
    "version": 3
   },
   "file_extension": ".py",
   "mimetype": "text/x-python",
   "name": "python",
   "nbconvert_exporter": "python",
   "pygments_lexer": "ipython3",
   "version": "3.7.4"
  }
 },
 "nbformat": 4,
 "nbformat_minor": 2
}
